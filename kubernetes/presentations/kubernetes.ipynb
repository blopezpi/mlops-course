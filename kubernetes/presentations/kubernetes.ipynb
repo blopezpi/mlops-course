{
 "cells": [
  {
   "cell_type": "markdown",
   "id": "7e12dce7-bcec-4557-b8da-ca93a24b5a32",
   "metadata": {},
   "source": [
    "## Kubernetes\n",
    "Kubernetes, also known as K8s, is an open-source system for automating deployment, scaling, and management of containerized applications. K8s is a portable, extensible, open source platform for managing containerized workloads and services, that facilitates both declarative configuration and automation. It has a large, rapidly growing ecosystem. Kubernetes services, support, and tools are widely available."
   ]
  },
  {
   "cell_type": "markdown",
   "id": "d5c95d7c-a7a3-4d0d-af81-c30bd4e9267b",
   "metadata": {},
   "source": [
    "### Features\n",
    "- Automated rollouts and rollbacks\n",
    "- Service discovery and load balancing\n",
    "- Storage orchestration\n",
    "- Secret and configuration management\n",
    "- Automatic bin packing\n",
    "- Batch execution\n",
    "- Horizontal scaling\n",
    "- IPv4/IPv6 dual-stack\n",
    "- Self-healing\n",
    "- Designed for extensibility\n"
   ]
  },
  {
   "cell_type": "markdown",
   "id": "faef2643-ab5a-4338-895f-01942a657756",
   "metadata": {},
   "source": [
    "### Components\n",
    "![](https://d33wubrfki0l68.cloudfront.net/2475489eaf20163ec0f54ddc1d92aa8d4c87c96b/e7c81/images/docs/components-of-kubernetes.svg)\n",
    "\n",
    "#### Control Plane\n",
    "- kube-apiserver: The API server is a component of the Kubernetes control plane that exposes the Kubernetes API. \n",
    "- etcd: Consistent and highly-available key value store used as Kubernetes' backing store for all cluster data.\n",
    "- kube-scheduler: Control plane component that watches for newly created Pods with no assigned node, and selects a node for them to run on.\n",
    "- kube-controller-manager: Control plane component that runs controller processes. Some types of these controllers are:\n",
    "    - Node controller: Responsible for noticing and responding when nodes go down.\n",
    "    - Job controller: Watches for Job objects that represent one-off tasks, then creates Pods to run those tasks to completion.\n",
    "    - EndpointSlice controller: Populates EndpointSlice objects (to provide a link between Services and Pods).\n",
    "    - ServiceAccount controller: Create default ServiceAccounts for new namespaces.\n",
    "\n",
    "- cloud-controller-manager: A Kubernetes control plane component that embeds cloud-specific control logic. The following controllers can have cloud provider dependencies:\n",
    "    - Node controller: For checking the cloud provider to determine if a node has been deleted in the cloud after it stops responding\n",
    "    - Route controller: For setting up routes in the underlying cloud infrastructure\n",
    "    - Service controller: For creating, updating and deleting cloud provider load balancers\n",
    "\n",
    "#### Node Components\n",
    "\n",
    "- kubelet: An agent that runs on each node in the cluster. It makes sure that containers are running in a Pod.\n",
    "- kube-proxy: Is a network proxy that runs on each node in your cluster, implementing part of the Kubernetes Service concept.\n",
    "- Container runtime: The software that is responsible for running containers."
   ]
  },
  {
   "cell_type": "markdown",
   "id": "c261ff23-257e-4183-8c0c-9e9a917d52a0",
   "metadata": {
    "tags": []
   },
   "source": [
    "**TASK**: Deploying a k8s cluster with minikube and show how to connect"
   ]
  },
  {
   "cell_type": "markdown",
   "id": "2641bff1-dc12-47f4-bcc5-fd7df41b90af",
   "metadata": {},
   "source": [
    "### Kubernetes Objects"
   ]
  },
  {
   "cell_type": "markdown",
   "id": "f77364df-8230-4ffd-98f1-30ef9d5a83ed",
   "metadata": {},
   "source": [
    "### 1. Pods: \n",
    "Pods are the smallest deployable units of computing that you can create and manage in Kubernetes.\n",
    "A Pod (as in a pod of whales or pea pod) is a group of one or more containers, with shared storage and network resources, and a specification for how to run the containers."
   ]
  },
  {
   "cell_type": "markdown",
   "id": "e71ddd2c-10d5-49d9-95a1-f0c985384aef",
   "metadata": {},
   "source": [
    "### 2. Workload Resources\n",
    "\n",
    "1. [Deployments](https://kubernetes.io/docs/concepts/workloads/controllers/deployment/)\n",
    "2. [ReplicaSet](https://kubernetes.io/docs/concepts/workloads/controllers/replicaset/)\n",
    "3. [StatefulSets](https://kubernetes.io/docs/concepts/workloads/controllers/statefulset/)\n",
    "4. [DaemonSet](https://kubernetes.io/docs/concepts/workloads/controllers/daemonset/)\n",
    "5. [Job](https://kubernetes.io/docs/concepts/workloads/controllers/job/)\n",
    "6. [CronJob](https://kubernetes.io/docs/concepts/workloads/controllers/cron-jobs/)"
   ]
  },
  {
   "cell_type": "markdown",
   "id": "168f8152-1617-4367-ab3b-d86d655eb527",
   "metadata": {},
   "source": [
    "### 3. Service, Load Balancing, Networking\n",
    "1. [Service](https://kubernetes.io/docs/concepts/services-networking/service/)\n",
    "2. [Ingress](https://kubernetes.io/docs/concepts/services-networking/ingress/)\n",
    "3. [Ingress Controller](https://kubernetes.io/docs/concepts/services-networking/ingress-controllers/)\n",
    "4. [Network Policies](https://kubernetes.io/docs/concepts/services-networking/network-policies/)\n"
   ]
  },
  {
   "cell_type": "markdown",
   "id": "7873b95f-4a20-4993-9311-765faf3d681e",
   "metadata": {},
   "source": [
    "### 4. Storage\n",
    "1. [Storage Classes](https://kubernetes.io/docs/concepts/storage/storage-classes/)\n",
    "2. [Persistent Volumes](https://kubernetes.io/docs/concepts/storage/persistent-volumes/)\n",
    "3. [Projected Volumes](https://kubernetes.io/docs/concepts/storage/projected-volumes/)\n",
    "4. [EmptyDir](https://kubernetes.io/docs/concepts/storage/volumes/#emptydir)\n",
    "5. HostPath"
   ]
  },
  {
   "cell_type": "markdown",
   "id": "30efd5b4-d2c8-45c5-b34e-ef4346f10d18",
   "metadata": {},
   "source": [
    "### 5. Configuration\n",
    "1. [ConfigMaps](https://kubernetes.io/docs/concepts/configuration/configmap/)\n",
    "2. [Secrets](https://kubernetes.io/docs/concepts/configuration/secret/)"
   ]
  },
  {
   "cell_type": "markdown",
   "id": "38ed9200-9901-426b-aad0-9261bcb0f444",
   "metadata": {},
   "source": [
    "### 6. Extending k8s\n",
    "1. [Custom Resources](https://kubernetes.io/docs/concepts/extend-kubernetes/api-extension/custom-resources/)\n",
    "2. [Operators](https://kubernetes.io/docs/concepts/extend-kubernetes/operator/)"
   ]
  },
  {
   "cell_type": "markdown",
   "id": "7b92b6b1-ca83-4627-8e82-74f77a99f4d7",
   "metadata": {},
   "source": [
    "## Package Manager\n",
    "1. [helm](https://helm.sh/)\n",
    "2. [artifacthub](https://artifacthub.io/)\n",
    "\n",
    "## Configuration Manager\n",
    "1. [kustomize](https://kustomize.io/)"
   ]
  },
  {
   "cell_type": "markdown",
   "id": "b36fc03c-f05c-4d5d-8dd5-7e9389f2f567",
   "metadata": {},
   "source": [
    "### Operators\n",
    "1. [helm-operator](https://sdk.operatorframework.io/docs/building-operators/helm/tutorial/)\n",
    "2. [operatorhub](https://operatorhub.io/)"
   ]
  },
  {
   "cell_type": "markdown",
   "id": "50311ddd-1ceb-41df-bed9-597b1ea246d4",
   "metadata": {},
   "source": [
    "### GITOPS\n",
    "GitOps uses Git repositories as a single source of truth to deliver infrastructure as code. \n",
    "[Gitops Explained](https://www.redhat.com/en/topics/devops/what-is-gitops)\n",
    "- [ArgoCD](https://argo-cd.readthedocs.io/en/stable/)\n",
    "- [FluxCD](https://fluxcd.io/)"
   ]
  },
  {
   "cell_type": "markdown",
   "id": "d32044eb-ea04-41a0-b58b-21a777ac669d",
   "metadata": {},
   "source": [
    "### Ejercicio 1\n",
    "1. Breast cancer build a deployment, service, ingress and statefulset for our application (maybe use a PVC for our mongo database).\n",
    "2. Deploy it."
   ]
  },
  {
   "cell_type": "markdown",
   "id": "ef7fbbd0-e4e5-464d-a76d-5972f7229757",
   "metadata": {},
   "source": [
    "### Ejercicio 2\n",
    "1. Generate a helm chart. \n",
    "2. Deploy it."
   ]
  },
  {
   "cell_type": "markdown",
   "id": "509ce512-85f2-490d-9585-defc2a711317",
   "metadata": {},
   "source": [
    "## Ejercicio 3\n",
    "1. Use mongo operator.\n",
    "2. Generate a mongo database resource"
   ]
  },
  {
   "cell_type": "markdown",
   "id": "cf922284-9075-4881-912a-30d9879634bc",
   "metadata": {},
   "source": [
    "Commands for chartmuseum:\n",
    "```sh\n",
    "docker run --rm -it -u 0:0 -p 8080:8080 -e DEBUG=1 -e STORAGE=local -e STORAGE_LOCAL_ROOTDIR=/charts -e AUTH_ANONYMOUS_GET=true -v charts:/charts chartmuseum/chartmuseum:latest\n",
    "helm cm-push test/ --version=\"0.1.0\" chartmuseum\n",
    "helm repo update\n",
    "helm template chartmuseum/test\n",
    "helm search repo chartmuseum/test --versions\n",
    "```"
   ]
  },
  {
   "cell_type": "markdown",
   "id": "c332bc40-8387-4f33-bf6a-ca8d4690601b",
   "metadata": {},
   "source": [
    "Commands for upload helm chart into dockerhub:\n",
    "```sh\n",
    "helm create test\n",
    "helm package test\n",
    "helm registry login registry-1.docker.io\n",
    "helm push test-0.1.0.tgz oci://registry-1.docker.io/blopezp007\n",
    "helm pull oci://registry-1.docker.io/blopezp007/test --version 0.1.0\n",
    "```"
   ]
  },
  {
   "cell_type": "code",
   "execution_count": null,
   "id": "a990c4d5-e88d-4344-91eb-184570142713",
   "metadata": {},
   "outputs": [],
   "source": []
  }
 ],
 "metadata": {
  "kernelspec": {
   "display_name": "Python 3 (ipykernel)",
   "language": "python",
   "name": "python3"
  },
  "language_info": {
   "codemirror_mode": {
    "name": "ipython",
    "version": 3
   },
   "file_extension": ".py",
   "mimetype": "text/x-python",
   "name": "python",
   "nbconvert_exporter": "python",
   "pygments_lexer": "ipython3",
   "version": "3.9.7"
  }
 },
 "nbformat": 4,
 "nbformat_minor": 5
}
