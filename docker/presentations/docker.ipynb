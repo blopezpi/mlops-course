{
 "cells": [
  {
   "cell_type": "markdown",
   "id": "4c197df4-22b2-4043-8de1-6f1968b22af7",
   "metadata": {},
   "source": [
    "## What is Docker?"
   ]
  },
  {
   "cell_type": "markdown",
   "id": "47dc1755-86a7-422b-94ef-46ca47a3b8a5",
   "metadata": {},
   "source": [
    "Docker is a set of platform as a service (PaaS) products that use OS-level virtualization to deliver software in packages called containers. [wikipedia](https://en.wikipedia.org/wiki/Docker_(software))"
   ]
  },
  {
   "cell_type": "markdown",
   "id": "a186bbbd-306d-4fba-9101-12524952cf31",
   "metadata": {},
   "source": [
    "### Containers\n",
    "OS-level virtualization is an operating system (OS) paradigm in which the kernel allows the existence of multiple isolated user space instances, called containers (LXC, Solaris containers, Docker, Podman), zones (Solaris containers), virtual private servers (OpenVZ), partitions, virtual environments (VEs), virtual kernels (DragonFly BSD), or jails (FreeBSD jail or chroot jail).[1] Such instances may look like real computers from the point of view of programs running in them. A computer program running on an ordinary operating system can see all resources (connected devices, files and folders, network shares, CPU power, quantifiable hardware capabilities) of that computer. However, programs running inside of a container can only see the container's contents and devices assigned to the container. [wikipedia](https://en.wikipedia.org/wiki/OS-level_virtualization)"
   ]
  },
  {
   "cell_type": "markdown",
   "id": "b8d16b66-1281-40db-bd2f-9d7b56eb6095",
   "metadata": {},
   "source": [
    "![](https://geekflare.com/wp-content/uploads/2019/09/traditional-vs-new-gen.png)"
   ]
  },
  {
   "cell_type": "markdown",
   "id": "21481f00-09d4-4029-95c6-1ec3080768de",
   "metadata": {},
   "source": [
    "![](https://containerjournal.com/wp-content/uploads/2020/06/Orasicontainerpic1.png)"
   ]
  },
  {
   "cell_type": "markdown",
   "id": "2e639c3a-d9d7-40a7-85fe-df9d292a0fdb",
   "metadata": {},
   "source": [
    "### Advanced understanding of containers\n",
    "![](https://opensource.com/sites/default/files/1linuxtechs.png)"
   ]
  },
  {
   "cell_type": "markdown",
   "id": "6ac58a93-ff52-431e-a486-9e61bf8f819b",
   "metadata": {},
   "source": [
    "![](https://www.studytrails.com/wp-content/uploads/2019/04/namespaces-1024x576.jpg)"
   ]
  },
  {
   "cell_type": "markdown",
   "id": "7c932306-9272-4c5f-b28c-92430619fadf",
   "metadata": {},
   "source": [
    "### Basic docker commands\n",
    "1. `docker run` -> Running a simple container (docker create + docker start). Example: `docker run hello-world` \n",
    "2. `docker ps` -> Get the running containers. `docker ps -a` -> Get the running and stopping containers.\n",
    "3. `docker pull` -> Pull a container image from a registry. Example: `docker pull ubuntu`\n",
    "4. `docker push` -> Push a container image to a registry. Example: `docker push blopezp007/my-image:0.0.1`\n",
    "5. `docker cp` -> Copy a file/directory to a running container. Example: `docker cp my-file.txt container_name`\n",
    "6. `docker exec` -> Executes a command in a running container. Example: `docker exec container_name cat /etc/hosts`\n",
    "7. `docker create` -> Only creates a new container. Example: `docker create ubuntu --name my_container`\n",
    "8. `docker images` -> List container images downloaded. \n",
    "9. `docker commit` -> Save the state of a container into an image. Example: `docker commit my_container my_image:v1`\n",
    "10. `docker build` -> Build a container from a Dockerfile and save it as image. Example: `docker build . -t my_image:v2 -f Dockerfile`. The dot is the context for the container.\n",
    "11. `docker image` -> Manage container images. \n",
    "12. `docker export` -> Export a container into a tarball file. Example: `docker export my_container -o my-container.tar`\n",
    "13. `docker save` -> Export one or more images into a tarball file. Example: `docker save busybox ubuntu -o images.tar`\n",
    "14. `docker import` -> Import a tarball into an image. You need to provide a tag. Example: `docker import my-container.tar my-image:exported`\n",
    "15. `docker load` -> Load one or more images from a tarball file. Example: `docker load -i images.tar`\n",
    "16. `docker rm` -> Remove a container stopped, you can remove a container running using the -f flag. Example: `docker rm my_container_running -f`\n",
    "17. `docker rmi/docker image rm` -> Remove a container image from the host.\n",
    "18. `docker login/logout` -> Login/Logout from a registry.\n",
    "19. `docker start/stop/restart` -> Start/Stop/restart one or more containers.\n",
    "20. `docker search` -> Search for a container image.\n",
    "21. `docker kill` -> Kill one or more containers.\n",
    "22. `docker diff` -> Inspect changes to files or directories on a container's filesystem\n",
    "23. `docker top` -> Show the running processes.\n",
    "24. `docker stats` -> Show resource usage for the running containers.\n",
    "25. `docker history` -> Show the history for a container image (layers).\n",
    "26. `docker inspect` -> Inspect a running container.\n",
    "27. `docker volume` -> Manage volumes.\n",
    "28. `docker network` -> Manage networks.\n",
    "29. `docker container` -> Manage containers.\n",
    "30. `docker secret/config` -> Manage configuration and secrets.\n",
    "31. `docker scan` -> Security scan for a container image.\n",
    "32. `docker swarm/stack/node` -> Docker swarm commands.\n",
    "33. `docker buildx` -> Build container images.\n",
    "34. `docker attach` -> Attach to a running container.\n",
    "35. `docker system` -> Manage docker and disk space.\n",
    "36. `docker logs` -> View stream logs from a container."
   ]
  },
  {
   "cell_type": "markdown",
   "id": "0aa77700-8f8a-4e8f-b425-e177216107f8",
   "metadata": {},
   "source": [
    "## docker build vs docker buildx build\n",
    "The `docker buildx build` command supports features available for `docker build`, including features such as outputs configuration, inline build caching, and specifying target platform. In addition, Buildx also supports new features that are not yet available for regular `docker build` like building manifest lists, distributed caching, and exporting build results to OCI image tarballs. [Reference](https://github.com/docker/buildx)"
   ]
  },
  {
   "cell_type": "markdown",
   "id": "72608757-58b3-4e98-b533-d949f0613908",
   "metadata": {},
   "source": [
    "- [docker volumes](https://docs.docker.com/storage/volumes/)\n",
    "   > - Volume Mount (`docker volume create`)\n",
    "   > - Bind Mount (Mount a directory or file from the docker host into the container)\n",
    "- [docker network](https://docs.docker.com/network/)\n",
    "   > - Bridge (use its own network `docker0`)\n",
    "   > - Host (Use the docker host network, you don't need to use port forwarding)\n",
    "   > - None (disable networking)\n"
   ]
  },
  {
   "cell_type": "markdown",
   "id": "71cec826-5b8c-45ee-9489-c085aaebadab",
   "metadata": {},
   "source": [
    "![](https://miro.medium.com/max/720/1*WKiEgPXO8XXppoqgr7ZVQA.png)"
   ]
  },
  {
   "cell_type": "markdown",
   "id": "96a23416-4569-4ad8-b7e4-41f710063106",
   "metadata": {},
   "source": [
    "![](https://miro.medium.com/max/720/1*pxgEmyU1LZIfHENlBmFDHQ.png)"
   ]
  },
  {
   "cell_type": "markdown",
   "id": "16b0b69c-0dbe-4b11-9b27-4a4626f6a631",
   "metadata": {},
   "source": [
    "![](https://miro.medium.com/max/720/1*MiGJxyhghBXBZcim9LSZQQ.png)"
   ]
  },
  {
   "cell_type": "markdown",
   "id": "e1f4aaae-525a-46d7-b33c-64d2037bfe45",
   "metadata": {},
   "source": [
    "## BUILD CONTAINERS\n",
    "[Dockerfile Reference](https://docs.docker.com/engine/reference/builder/)"
   ]
  },
  {
   "cell_type": "markdown",
   "id": "7359605c-56b3-493b-9b8d-d3b240e2425a",
   "metadata": {},
   "source": [
    "### .dockerignore\n",
    "The .gitignore for the docker build command. Exclude files or directories included in the root context."
   ]
  },
  {
   "cell_type": "markdown",
   "id": "384c5787-6f8c-4f4d-b582-d8cd064316dd",
   "metadata": {
    "jp-MarkdownHeadingCollapsed": true,
    "tags": []
   },
   "source": [
    "#### Dockerfile example:\n",
    "\n",
    "```dockerfile\n",
    "FROM tiangolo/uvicorn-gunicorn-fastapi:python3.9-slim AS builder\n",
    "\n",
    "WORKDIR /app\n",
    "\n",
    "COPY requirements.txt ./\n",
    "RUN --mount=type=cache,target=/root/.cache/pip \n",
    "    pip install -r requirements.txt\n",
    "\n",
    "COPY ./app ./app\n",
    "\n",
    "FROM builder as dev-envs\n",
    "\n",
    "RUN <<EOF\n",
    "apt-get update\n",
    "apt-get install -y --no-install-recommends git\n",
    "EOF\n",
    "\n",
    "RUN <<EOF\n",
    "useradd -s /bin/bash -m vscode\n",
    "groupadd docker\n",
    "usermod -aG docker vscode\n",
    "EOF\n",
    "# install Docker tools (cli, buildx, compose)\n",
    "COPY --from=gloursdocker/docker / /\n",
    "```"
   ]
  },
  {
   "cell_type": "markdown",
   "id": "62ca02af-b6e2-4244-8d22-c371a6a70d27",
   "metadata": {
    "tags": []
   },
   "source": [
    "#### [MULTISTAGE BUILD:](https://docs.docker.com/build/building/multi-stage/)\n",
    "```dockerfile\n",
    "FROM golang:1.16 [AS builder]\n",
    "WORKDIR /go/src/github.com/alexellis/href-counter/\n",
    "RUN go get -d -v golang.org/x/net/html  \n",
    "COPY app.go ./\n",
    "RUN CGO_ENABLED=0 go build -a -installsuffix cgo -o app .\n",
    "\n",
    "FROM alpine:latest  \n",
    "RUN apk --no-cache add ca-certificates\n",
    "WORKDIR /root/\n",
    "COPY --from=0 /go/src/github.com/alexellis/href-counter/app ./\n",
    "# COPY --from=builder /go/src/github.com/alexellis/href-counter/app ./\n",
    "CMD [\"./app\"]\n",
    "```"
   ]
  },
  {
   "cell_type": "markdown",
   "id": "ca049266-aa5f-4e47-9b83-5122c07197b0",
   "metadata": {},
   "source": [
    "#### ADD vs COPY:\n",
    "- ADD -> Add files, directories from a URL, host path and uncompress tarball files in the build. (Impredecible)\n",
    "- COPY -> Add files, directories from host path only.\n",
    "\n",
    "Preferred COPY and if you need to download from a URL or uncompress a tarball use RUN and verify the integrity of that file."
   ]
  },
  {
   "cell_type": "markdown",
   "id": "0367b7e3-a019-46b1-926e-03c942d9f56b",
   "metadata": {},
   "source": [
    "#### CMD vs ENTRYPOINT:\n",
    "- CMD -> Command line or arguments that you can modify when run a container.\n",
    "- ENTRYPOINT -> Command using when running the container, you cannot modify it, if you need to do you need to pass the `--entrypoint` flag to the docker run command."
   ]
  },
  {
   "cell_type": "markdown",
   "id": "002ca73c-bc7e-4fb7-99cc-621f68855c3e",
   "metadata": {},
   "source": [
    "![](https://miro.medium.com/max/720/1*ZyDop_nTtu26CVpz5uFQUg.png)"
   ]
  },
  {
   "cell_type": "markdown",
   "id": "e6e09847-df97-4dbe-bb7d-5c29ff962daf",
   "metadata": {},
   "source": [
    "[Caching](https://docs.docker.com/build/building/cache/)"
   ]
  },
  {
   "cell_type": "markdown",
   "id": "92988c0a-b7aa-44ba-9b13-f1cc99e5295d",
   "metadata": {},
   "source": [
    "## docker-compose"
   ]
  },
  {
   "cell_type": "markdown",
   "id": "dbea9795-ff0c-4b0d-97a1-929a759c396a",
   "metadata": {},
   "source": [
    "We are using docker-compose if we need to run an application with a multiple services, for example a wordpress web site, that needs a mysql/postgresql database to save data. [Reference](https://docs.docker.com/compose/compose-file/compose-file-v3/)"
   ]
  },
  {
   "cell_type": "markdown",
   "id": "ce4f843f-baaf-44fb-bd90-b222b08286e9",
   "metadata": {},
   "source": [
    "```yaml\n",
    "services:\n",
    "  db:\n",
    "    image: mariadb:10.6.4-focal\n",
    "    command: '--default-authentication-plugin=mysql_native_password'\n",
    "    volumes:\n",
    "      - db_data:/var/lib/mysql\n",
    "    restart: always\n",
    "    environment:\n",
    "      - MYSQL_ROOT_PASSWORD=somewordpress\n",
    "      - MYSQL_DATABASE=wordpress\n",
    "      - MYSQL_USER=wordpress\n",
    "      - MYSQL_PASSWORD=wordpress\n",
    "    expose:\n",
    "      - 3306\n",
    "      - 33060\n",
    "  wordpress:\n",
    "    image: wordpress:latest\n",
    "    ports:\n",
    "      - 80:80\n",
    "    restart: always\n",
    "    environment:\n",
    "      - WORDPRESS_DB_HOST=db\n",
    "      - WORDPRESS_DB_USER=wordpress\n",
    "      - WORDPRESS_DB_PASSWORD=wordpress\n",
    "      - WORDPRESS_DB_NAME=wordpress\n",
    "volumes:\n",
    "  db_data:\n",
    "```"
   ]
  },
  {
   "cell_type": "markdown",
   "id": "008eb18c-f30e-4cff-90b3-b4795bf5665e",
   "metadata": {},
   "source": [
    "```yaml\n",
    "services:\n",
    "  portainer:\n",
    "    image: portainer/portainer-ce:alpine\n",
    "    container_name: portainer\n",
    "    command: -H unix:///var/run/docker.sock\n",
    "    ports:\n",
    "      - \"9000:9000\"\n",
    "    volumes:\n",
    "      - \"/var/run/docker.sock:/var/run/docker.sock\"\n",
    "      - \"portainer_data:/data\"\n",
    "    restart: always\n",
    "\n",
    "volumes:\n",
    "  portainer_data:\n",
    "```"
   ]
  },
  {
   "cell_type": "markdown",
   "id": "5c3f1edf-7875-4213-92b3-d806982a5da8",
   "metadata": {},
   "source": [
    "```yaml\n",
    "version: \"3.9\"\n",
    "x-volumes:\n",
    "  &default-volume\n",
    "  driver: foobar-storage\n",
    "\n",
    "services:\n",
    "  web:\n",
    "    image: myapp/web:latest\n",
    "    volumes: [\"vol1\", \"vol2\", \"vol3\"]\n",
    "volumes:\n",
    "  vol1: *default-volume\n",
    "  vol2:\n",
    "    << : *default-volume\n",
    "    name: volume02\n",
    "  vol3:\n",
    "    << : *default-volume\n",
    "    driver: default\n",
    "    name: volume-local\n",
    "```"
   ]
  }
 ],
 "metadata": {
  "kernelspec": {
   "display_name": "Python 3 (ipykernel)",
   "language": "python",
   "name": "python3"
  },
  "language_info": {
   "codemirror_mode": {
    "name": "ipython",
    "version": 3
   },
   "file_extension": ".py",
   "mimetype": "text/x-python",
   "name": "python",
   "nbconvert_exporter": "python",
   "pygments_lexer": "ipython3",
   "version": "3.9.7"
  }
 },
 "nbformat": 4,
 "nbformat_minor": 5
}
